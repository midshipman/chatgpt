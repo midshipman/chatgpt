{
  "nbformat": 4,
  "nbformat_minor": 0,
  "metadata": {
    "colab": {
      "provenance": [],
      "include_colab_link": true
    },
    "kernelspec": {
      "name": "python3",
      "display_name": "Python 3"
    },
    "language_info": {
      "name": "python"
    },
    "gpuClass": "standard"
  },
  "cells": [
    {
      "cell_type": "markdown",
      "metadata": {
        "id": "view-in-github",
        "colab_type": "text"
      },
      "source": [
        "<a href=\"https://colab.research.google.com/github/midshipman/chatgpt/blob/main/helloworld_gpt3.ipynb\" target=\"_parent\"><img src=\"https://colab.research.google.com/assets/colab-badge.svg\" alt=\"Open In Colab\"/></a>"
      ]
    },
    {
      "cell_type": "code",
      "metadata": {
        "id": "E9chkLJcd226"
      },
      "source": [
        "!pip install openai"
      ],
      "execution_count": null,
      "outputs": []
    },
    {
      "cell_type": "markdown",
      "source": [
        "Init"
      ],
      "metadata": {
        "id": "QyhDOOvs9I9S"
      }
    },
    {
      "cell_type": "code",
      "metadata": {
        "id": "9853RCHId6-2"
      },
      "source": [
        "import json\n",
        "import openai\n",
        "\n",
        "openai.api_key = \"\"      # API key"
      ],
      "execution_count": 3,
      "outputs": []
    },
    {
      "cell_type": "markdown",
      "source": [
        "Use Completion"
      ],
      "metadata": {
        "id": "w_wkTxmKkkqh"
      }
    },
    {
      "cell_type": "code",
      "source": [
        "response = openai.Completion.create(engine=\"text-davinci-003\", prompt=\"Say this is a test\", temperature=0, max_tokens=7)\n",
        "\n",
        "print(response)   "
      ],
      "metadata": {
        "colab": {
          "base_uri": "https://localhost:8080/"
        },
        "id": "iH_E6hPqkPt2",
        "outputId": "d9d0a779-0274-480a-e4b2-8831df46cf6c"
      },
      "execution_count": 4,
      "outputs": [
        {
          "output_type": "stream",
          "name": "stdout",
          "text": [
            "{\n",
            "  \"choices\": [\n",
            "    {\n",
            "      \"finish_reason\": \"length\",\n",
            "      \"index\": 0,\n",
            "      \"logprobs\": null,\n",
            "      \"text\": \"\\n\\nThis is indeed a test\"\n",
            "    }\n",
            "  ],\n",
            "  \"created\": 1679509582,\n",
            "  \"id\": \"cmpl-6wxSA6DIeN0KyK8xnjh7yQ1GWLr1F\",\n",
            "  \"model\": \"text-davinci-003\",\n",
            "  \"object\": \"text_completion\",\n",
            "  \"usage\": {\n",
            "    \"completion_tokens\": 7,\n",
            "    \"prompt_tokens\": 5,\n",
            "    \"total_tokens\": 12\n",
            "  }\n",
            "}\n"
          ]
        }
      ]
    },
    {
      "cell_type": "markdown",
      "source": [
        "Use new method ChatCommpletion"
      ],
      "metadata": {
        "id": "IyQNvosJ9DE1"
      }
    },
    {
      "cell_type": "code",
      "source": [
        "chat_completion = openai.ChatCompletion.create(\n",
        "    model=\"gpt-3.5-turbo\",\n",
        "    messages=[\n",
        "        # system message first, it helps set the behavior of the assistant\n",
        "        {\"role\": \"system\", \"content\": \"You are a helpful assistant.\"},\n",
        "        # I am the user, and this is my prompt\n",
        "        {\"role\": \"user\", \"content\": \"What's the best star wars movie?\"},\n",
        "        # we can also add the previous conversation\n",
        "        # {\"role\": \"assistant\", \"content\": \"Episode III.\"},\n",
        "    ],\n",
        ")\n",
        "\n",
        "print(chat_completion)"
      ],
      "metadata": {
        "id": "0unFnxAa8KEs",
        "colab": {
          "base_uri": "https://localhost:8080/"
        },
        "outputId": "d4740d03-3d7c-4d62-e863-f8cfa566318a"
      },
      "execution_count": 5,
      "outputs": [
        {
          "output_type": "stream",
          "name": "stdout",
          "text": [
            "{\n",
            "  \"choices\": [\n",
            "    {\n",
            "      \"finish_reason\": \"stop\",\n",
            "      \"index\": 0,\n",
            "      \"message\": {\n",
            "        \"content\": \"As an AI language model, I cannot provide opinions, but the most critically acclaimed and fan-favorite movies in the Star Wars franchise include \\\"The Empire Strikes Back\\\" and \\\"A New Hope.\\\"\",\n",
            "        \"role\": \"assistant\"\n",
            "      }\n",
            "    }\n",
            "  ],\n",
            "  \"created\": 1679509589,\n",
            "  \"id\": \"chatcmpl-6wxSHMYUsp6vb70xyB3Di94QmMpAD\",\n",
            "  \"model\": \"gpt-3.5-turbo-0301\",\n",
            "  \"object\": \"chat.completion\",\n",
            "  \"usage\": {\n",
            "    \"completion_tokens\": 40,\n",
            "    \"prompt_tokens\": 26,\n",
            "    \"total_tokens\": 66\n",
            "  }\n",
            "}\n"
          ]
        }
      ]
    },
    {
      "cell_type": "code",
      "metadata": {
        "colab": {
          "base_uri": "https://localhost:8080/"
        },
        "id": "l1giMuNueMkm",
        "outputId": "d890fba2-c3bf-4a30-eb4a-b6002db12e58"
      },
      "source": [
        "openai.FineTune.list() "
      ],
      "execution_count": 6,
      "outputs": [
        {
          "output_type": "execute_result",
          "data": {
            "text/plain": [
              "<OpenAIObject list at 0x7fc062cc8db0> JSON: {\n",
              "  \"data\": [],\n",
              "  \"object\": \"list\"\n",
              "}"
            ]
          },
          "metadata": {},
          "execution_count": 6
        }
      ]
    },
    {
      "cell_type": "code",
      "metadata": {
        "id": "7H_Mr3b0eP_2",
        "colab": {
          "base_uri": "https://localhost:8080/"
        },
        "outputId": "f9a2b75a-0e08-4db3-8099-43ab94ee0524"
      },
      "source": [
        "run = openai.Completion.create(\n",
        "  model=\"text-davinci-003\",      \n",
        "  prompt=\"skin care,\",     \n",
        "  temperature=0.5,      \n",
        "  max_tokens=50,       \n",
        "  n = 5                 \n",
        ")\n",
        "print(run)"
      ],
      "execution_count": 10,
      "outputs": [
        {
          "output_type": "stream",
          "name": "stdout",
          "text": [
            "{\n",
            "  \"choices\": [\n",
            "    {\n",
            "      \"finish_reason\": \"length\",\n",
            "      \"index\": 0,\n",
            "      \"logprobs\": null,\n",
            "      \"text\": \"\\n\\nmakeup,\\n\\nperfume,\\n\\nbody care,\\n\\nhair care,\\n\\nnail care,\\n\\nsun protection,\\n\\ncosmetics,\\n\\nfacial cleansers,\\n\\ntoners,\\n\"\n",
            "    },\n",
            "    {\n",
            "      \"finish_reason\": \"length\",\n",
            "      \"index\": 1,\n",
            "      \"logprobs\": null,\n",
            "      \"text\": \"\\n\\nHealth and beauty products,\\n\\nHair care products,\\n\\nMakeup,\\n\\nFragrances,\\n\\nCosmetics,\\n\\nSunscreen,\\n\\nBody lotions,\\n\\nCleansers,\\n\\nEx\"\n",
            "    },\n",
            "    {\n",
            "      \"finish_reason\": \"length\",\n",
            "      \"index\": 2,\n",
            "      \"logprobs\": null,\n",
            "      \"text\": \"\\n\\nThere are many different skin care regimens and products that you can use to keep your skin looking and feeling healthy. A basic skin care routine should include cleansing, exfoliating, toning, and moisturizing. Cleansing helps to\"\n",
            "    },\n",
            "    {\n",
            "      \"finish_reason\": \"length\",\n",
            "      \"index\": 3,\n",
            "      \"logprobs\": null,\n",
            "      \"text\": \"\\n\\nThere are many different types of skin care products and treatments available. The most basic skin care routine should include a gentle cleanser, a moisturizer, and a sunscreen. Other products and treatments may include exfoliants, serums, ton\"\n",
            "    },\n",
            "    {\n",
            "      \"finish_reason\": \"length\",\n",
            "      \"index\": 4,\n",
            "      \"logprobs\": null,\n",
            "      \"text\": \"\\n\\nSkin care is important for maintaining healthy, glowing skin. It involves cleansing, exfoliation, moisturizing, and protecting the skin from sun exposure, environmental pollutants, and other damaging factors. Skin care products can be used to help keep the\"\n",
            "    }\n",
            "  ],\n",
            "  \"created\": 1679510559,\n",
            "  \"id\": \"cmpl-6wxhvTnshJzv0wLuSmAZwmg89SN2Z\",\n",
            "  \"model\": \"text-davinci-003\",\n",
            "  \"object\": \"text_completion\",\n",
            "  \"usage\": {\n",
            "    \"completion_tokens\": 250,\n",
            "    \"prompt_tokens\": 3,\n",
            "    \"total_tokens\": 253\n",
            "  }\n",
            "}\n"
          ]
        }
      ]
    },
    {
      "cell_type": "code",
      "metadata": {
        "colab": {
          "base_uri": "https://localhost:8080/"
        },
        "id": "VlqRPgetes3f",
        "outputId": "b493aedb-0ddb-46da-8316-3984dcdc0287"
      },
      "source": [
        "output = [run.choices[0]['text'], run.choices[1]['text'], run.choices[2]['text'], run.choices[3]['text'], run.choices[4]['text']]\n",
        "for i in range(5) :\n",
        "  print(output[i])\n",
        "  print('='*30)\n",
        "# print(output[0])\n",
        "# print(output[1])\n",
        "# print(output[2])\n",
        "# print(output[3])\n",
        "# print(output[4])"
      ],
      "execution_count": 8,
      "outputs": [
        {
          "output_type": "stream",
          "name": "stdout",
          "text": [
            "\n",
            "\n",
            "Body care,\n",
            "\n",
            "Hair care,\n",
            "\n",
            "Makeup,\n",
            "\n",
            "Sun protection,\n",
            "\n",
            "Fragrance,\n",
            "\n",
            "Men’s grooming,\n",
            "\n",
            "Baby care,\n",
            "\n",
            "Oral care,\n",
            "\n",
            "Nail care\n",
            "==============================\n",
            "\n",
            "\n",
            "makeup,\n",
            "\n",
            "hair care,\n",
            "\n",
            "nail care,\n",
            "\n",
            "body care,\n",
            "\n",
            "sun protection,\n",
            "\n",
            "oral care,\n",
            "\n",
            "fragrances,\n",
            "\n",
            "bath and shower products,\n",
            "\n",
            "self-tan\n",
            "==============================\n",
            "\n",
            "\n",
            "skin care products,\n",
            "cleansers,\n",
            "toners,\n",
            "moisturizers,\n",
            "exfoliators,\n",
            "serums,\n",
            "masks,\n",
            "sunscreens,\n",
            "eye creams,\n",
            "acne treatments,\n",
            "==============================\n",
            "\n",
            "\n",
            "hair care,\n",
            "\n",
            "makeup,\n",
            "\n",
            "nail care,\n",
            "\n",
            "sun protection,\n",
            "\n",
            "anti-aging,\n",
            "\n",
            "acne treatments,\n",
            "\n",
            "toners,\n",
            "\n",
            "exfoliators,\n",
            "\n",
            "moistur\n",
            "==============================\n",
            "\n",
            "\n",
            "makeup,\n",
            "\n",
            "hair care,\n",
            "\n",
            "nail care,\n",
            "\n",
            "body care,\n",
            "\n",
            "sun protection,\n",
            "\n",
            "anti-aging,\n",
            "\n",
            "fragrance,\n",
            "\n",
            "bath and shower,\n",
            "\n",
            "oral care,\n",
            "\n",
            "==============================\n"
          ]
        }
      ]
    }
  ]
}