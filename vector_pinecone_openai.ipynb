{
  "nbformat": 4,
  "nbformat_minor": 0,
  "metadata": {
    "colab": {
      "provenance": [],
      "include_colab_link": true
    },
    "kernelspec": {
      "name": "python3",
      "display_name": "Python 3"
    },
    "language_info": {
      "name": "python"
    }
  },
  "cells": [
    {
      "cell_type": "markdown",
      "metadata": {
        "id": "view-in-github",
        "colab_type": "text"
      },
      "source": [
        "<a href=\"https://colab.research.google.com/github/midshipman/chatgpt/blob/main/vector_pinecone_openai.ipynb\" target=\"_parent\"><img src=\"https://colab.research.google.com/assets/colab-badge.svg\" alt=\"Open In Colab\"/></a>"
      ]
    },
    {
      "cell_type": "code",
      "source": [
        "!pip install pinecone-client openai\n",
        "\n",
        "import os\n",
        "import pinecone\n",
        "import openai\n",
        "\n",
        "PINECONE_API_KEY = \"YOUR_PINECONE_API_KEY\"\n",
        "PINECONE_ENV = \"YOUR_PINECONE_ENVIRONMENT\"\n",
        "OPENAI_API_KEY = \"YOUR_OPENAI_API_KEY\"\n",
        "\n",
        "pinecone.init(api_key=PINECONE_API_KEY, environment=PINECONE_ENV)\n",
        "openai.api_key = OPENAI_API_KEY\n",
        "\n",
        "PINECONE_TABLE_NAME = \"NAME-OF-YOUR-PINECONE-INDEX\""
      ],
      "metadata": {
        "colab": {
          "base_uri": "https://localhost:8080/"
        },
        "id": "DSFAZXvsQow1",
        "outputId": "f3e37660-4eee-423c-ae5d-30c7cf7f4452"
      },
      "execution_count": null,
      "outputs": [
        {
          "output_type": "stream",
          "name": "stdout",
          "text": [
            "Looking in indexes: https://pypi.org/simple, https://us-python.pkg.dev/colab-wheels/public/simple/\n",
            "Requirement already satisfied: pinecone-client in /usr/local/lib/python3.9/dist-packages (2.2.1)\n",
            "Requirement already satisfied: openai in /usr/local/lib/python3.9/dist-packages (0.27.4)\n",
            "Requirement already satisfied: typing-extensions>=3.7.4 in /usr/local/lib/python3.9/dist-packages (from pinecone-client) (4.5.0)\n",
            "Requirement already satisfied: loguru>=0.5.0 in /usr/local/lib/python3.9/dist-packages (from pinecone-client) (0.7.0)\n",
            "Requirement already satisfied: urllib3>=1.21.1 in /usr/local/lib/python3.9/dist-packages (from pinecone-client) (1.26.15)\n",
            "Requirement already satisfied: tqdm>=4.64.1 in /usr/local/lib/python3.9/dist-packages (from pinecone-client) (4.65.0)\n",
            "Requirement already satisfied: python-dateutil>=2.5.3 in /usr/local/lib/python3.9/dist-packages (from pinecone-client) (2.8.2)\n",
            "Requirement already satisfied: numpy in /usr/local/lib/python3.9/dist-packages (from pinecone-client) (1.22.4)\n",
            "Requirement already satisfied: pyyaml>=5.4 in /usr/local/lib/python3.9/dist-packages (from pinecone-client) (6.0)\n",
            "Requirement already satisfied: requests>=2.19.0 in /usr/local/lib/python3.9/dist-packages (from pinecone-client) (2.27.1)\n",
            "Requirement already satisfied: dnspython>=2.0.0 in /usr/local/lib/python3.9/dist-packages (from pinecone-client) (2.3.0)\n",
            "Requirement already satisfied: aiohttp in /usr/local/lib/python3.9/dist-packages (from openai) (3.8.4)\n",
            "Requirement already satisfied: six>=1.5 in /usr/local/lib/python3.9/dist-packages (from python-dateutil>=2.5.3->pinecone-client) (1.16.0)\n",
            "Requirement already satisfied: certifi>=2017.4.17 in /usr/local/lib/python3.9/dist-packages (from requests>=2.19.0->pinecone-client) (2022.12.7)\n",
            "Requirement already satisfied: charset-normalizer~=2.0.0 in /usr/local/lib/python3.9/dist-packages (from requests>=2.19.0->pinecone-client) (2.0.12)\n",
            "Requirement already satisfied: idna<4,>=2.5 in /usr/local/lib/python3.9/dist-packages (from requests>=2.19.0->pinecone-client) (3.4)\n",
            "Requirement already satisfied: multidict<7.0,>=4.5 in /usr/local/lib/python3.9/dist-packages (from aiohttp->openai) (6.0.4)\n",
            "Requirement already satisfied: async-timeout<5.0,>=4.0.0a3 in /usr/local/lib/python3.9/dist-packages (from aiohttp->openai) (4.0.2)\n",
            "Requirement already satisfied: attrs>=17.3.0 in /usr/local/lib/python3.9/dist-packages (from aiohttp->openai) (22.2.0)\n",
            "Requirement already satisfied: yarl<2.0,>=1.0 in /usr/local/lib/python3.9/dist-packages (from aiohttp->openai) (1.8.2)\n",
            "Requirement already satisfied: aiosignal>=1.1.2 in /usr/local/lib/python3.9/dist-packages (from aiohttp->openai) (1.3.1)\n",
            "Requirement already satisfied: frozenlist>=1.1.1 in /usr/local/lib/python3.9/dist-packages (from aiohttp->openai) (1.3.3)\n"
          ]
        }
      ]
    },
    {
      "cell_type": "code",
      "execution_count": null,
      "metadata": {
        "id": "fWwTQVS1QgbF"
      },
      "outputs": [],
      "source": [
        "def create_pinecone_index(table_name, dimension=1536, metric=\"cosine\", pod_type=\"p1\"):\n",
        "    if table_name not in pinecone.list_indexes():\n",
        "        pinecone.create_index(table_name, dimension=dimension, metric=metric, pod_type=pod_type)\n",
        "\n",
        "def complete(prompt):\n",
        "    res = openai.ChatCompletion.create(\n",
        "        model=\"gpt-3.5-turbo\",\n",
        "        messages=[{\"role\": \"user\", \"content\": prompt}]\n",
        "    )\n",
        "    return res['choices'][0]['message']['content'].strip()\n",
        "\n",
        "def get_ada_embedding(text):\n",
        "    text = text.replace(\"\\n\", \" \")\n",
        "    return openai.Embedding.create(input=text, model=\"text-embedding-ada-002\")[\"data\"][0][\"embedding\"]\n",
        "\n",
        "def upsert_to_index(index, texts):\n",
        "    pinecone_vectors = []\n",
        "    for loopIndex, text in enumerate(texts, start=1):\n",
        "        pinecone_vectors.append((\"test-openai-\"+str(loopIndex), get_ada_embedding(text), {\"text\": text}))\n",
        "    index.upsert(vectors=pinecone_vectors)\n",
        "\n",
        "def query_index(index, query_text, top_k=3):\n",
        "    q_embedding = get_ada_embedding(query_text)\n",
        "    pineQ = index.query(q_embedding, top_k=top_k, include_values=False, include_metadata=True)\n",
        "    return pineQ\n",
        "\n",
        "def print_results(pineQ):\n",
        "    print(f\"\\033[36m\" + str(pineQ) + \"\\033[0m\")\n",
        "    print(\"\\n\")\n",
        "    for match in pineQ.matches:\n",
        "        print(f\"\\033[1m\\033[32m\" + match.metadata['text'] + \" (\" + str(round(match.score*100,2)) + \"%)\" + \"\\033[0m\")\n"
      ]
    },
    {
      "cell_type": "code",
      "source": [
        "def main():\n",
        "    create_pinecone_index(PINECONE_TABLE_NAME)\n",
        "    index = pinecone.Index(PINECONE_TABLE_NAME)\n",
        "\n",
        "    \"\"\" \n",
        "    texts = [\n",
        "        \"AI Agents as virtual employees are the future\",\n",
        "        \"Vector Databases are the future\",\n",
        "        \"AGI is not here....yet.\"\n",
        "    ] \n",
        "    \n",
        "    upsert_to_index(index, texts)\n",
        "    \"\"\"\n",
        "\n",
        "    query_text = \"are vector dbs the future?\"\n",
        "    results = query_index(index, query_text)\n",
        "    print_results(results)"
      ],
      "metadata": {
        "id": "xW6aEwmQRf76"
      },
      "execution_count": null,
      "outputs": []
    },
    {
      "cell_type": "code",
      "source": [
        "main()"
      ],
      "metadata": {
        "colab": {
          "base_uri": "https://localhost:8080/"
        },
        "id": "BUtW355QQkdm",
        "outputId": "c134c8b6-70ac-4aee-ae45-5c62204c875b"
      },
      "execution_count": null,
      "outputs": [
        {
          "output_type": "stream",
          "name": "stdout",
          "text": [
            "\u001b[36m{'matches': [{'id': 'test-openai-2',\n",
            "              'metadata': {'text': 'Vector Databases are the future'},\n",
            "              'score': 0.917166531,\n",
            "              'values': []},\n",
            "             {'id': 'test-openai-1',\n",
            "              'metadata': {'text': 'AI Agents as virtual employees are the '\n",
            "                                   'future'},\n",
            "              'score': 0.774859846,\n",
            "              'values': []},\n",
            "             {'id': 'test-openai-3',\n",
            "              'metadata': {'text': 'AGI is not here....yet.'},\n",
            "              'score': 0.712659299,\n",
            "              'values': []}],\n",
            " 'namespace': ''}\u001b[0m\n",
            "\n",
            "\n",
            "\u001b[1m\u001b[32mVector Databases are the future (91.72%)\u001b[0m\n",
            "\u001b[1m\u001b[32mAI Agents as virtual employees are the future (77.49%)\u001b[0m\n",
            "\u001b[1m\u001b[32mAGI is not here....yet. (71.27%)\u001b[0m\n"
          ]
        }
      ]
    },
    {
      "cell_type": "code",
      "source": [
        "def fetch_vector(index, vector_id):\n",
        "    return index.fetch(ids=[vector_id])\n",
        "\n",
        "index = pinecone.Index(PINECONE_TABLE_NAME)\n",
        "# print(fetch_vector(index, 'test-openai-3'))\n",
        "\n",
        "index.describe_index_stats()"
      ],
      "metadata": {
        "colab": {
          "base_uri": "https://localhost:8080/"
        },
        "id": "FjMSM-QQR5S3",
        "outputId": "8f719c52-72f7-40f1-91fe-cf0d80187017"
      },
      "execution_count": null,
      "outputs": [
        {
          "output_type": "execute_result",
          "data": {
            "text/plain": [
              "{'dimension': 1536,\n",
              " 'index_fullness': 0.0,\n",
              " 'namespaces': {'': {'vector_count': 3}},\n",
              " 'total_vector_count': 3}"
            ]
          },
          "metadata": {},
          "execution_count": 19
        }
      ]
    },
    {
      "cell_type": "code",
      "source": [
        "# index.delete(ids=[\"test-openai-1\", \"test-openai-2\", \"test-openai-3\"])"
      ],
      "metadata": {
        "id": "xjc1-T2ISfxs"
      },
      "execution_count": null,
      "outputs": []
    }
  ]
}